{
 "cells": [
  {
   "cell_type": "code",
   "execution_count": 1,
   "metadata": {},
   "outputs": [
    {
     "name": "stdout",
     "output_type": "stream",
     "text": [
      "done\n"
     ]
    }
   ],
   "source": [
    "import matplotlib.pyplot as plt\n",
    "import numpy as np\n",
    "\n",
    "TotalChips = int(100)                              # specify number of chips you are using for data\n",
    "TotalCryo = int(4); Cryocycles = [0,5,20,100]    # specify cryocyles\n",
    "\n",
    "T = []\n",
    "# Need to adjust the numbering of the chips\n",
    "# We start at 20 for this batch\n",
    "for i in range(TotalChips):\n",
    "    T.append(i+20)\n",
    "\n",
    "# Create strings so it can automatically read in txt data\n",
    "chips = []\n",
    "for i in range(TotalChips):\n",
    "    a = 'chip' + str(i+20)\n",
    "    chips = np.append(chips,a)\n",
    "data = []; txt = []\n",
    "for i in range(len(chips)):\n",
    "    data.append([]); txt.append([])\n",
    "for i in range(len(chips)):\n",
    "    for j in Cryocycles:\n",
    "        e = 'DataRT' + str(j) + str(chips[i])\n",
    "        data[i] = np.append(data[i],e)\n",
    "        f = str(chips[i]) + 'RT' + str(j) + '.dat'\n",
    "        txt[i] = np.append(txt[i],f)   # stores the actual data file's name we wish to extract from\n",
    "\n",
    "# extract data to RMS,Mean,Gain,Ch,PF arrays\n",
    "# Data[i][j][k] = RMS[chip#][Cryocycle#][channel#]\n",
    "RMS = np.zeros((len(chips),len(Cryocycles),16))\n",
    "Mean = np.zeros((len(chips),len(Cryocycles),16))\n",
    "Ch = np.zeros((len(chips),len(Cryocycles),16))\n",
    "PF = np.zeros((len(chips),len(Cryocycles),16))\n",
    "Gain = np.zeros((len(chips),len(Cryocycles),16))\n",
    "\n",
    "for j in range(len(chips)):\n",
    "    for i in range(len(Cryocycles)):\n",
    "        r = np.loadtxt(str(txt[j][i]),dtype=float,delimiter=None)\n",
    "        rr = r.T[0]\n",
    "        RMS[j][i] = rr[:]\n",
    "        m = np.loadtxt(str(txt[j][i]),dtype=float,delimiter=None)\n",
    "        mm = m.T[1]\n",
    "        Mean[j][i] = mm[:]\n",
    "        cc = np.loadtxt(str(txt[j][i]),dtype=float,delimiter=None)\n",
    "        ccc = cc.T[2]\n",
    "        Ch[j][i] = ccc[:]\n",
    "        p = np.loadtxt(str(txt[j][i]),dtype=float,delimiter=None)\n",
    "        passfail = p.T[3]\n",
    "        PF[j][i] = passfail[:]\n",
    "        g = np.loadtxt(str(txt[j][i]),dtype=float,delimiter=None)\n",
    "        gg = g.T[4]\n",
    "        Gain[j][i] = gg[:]\n",
    "        \n",
    "# Normalize the channel Numbers\n",
    "for i in range(len(chips)):\n",
    "    for j in range(len(Cryocycles)):\n",
    "        for k in range(len(Ch[i][j])):\n",
    "            if 32. > Ch[i][j][k] > 15.:\n",
    "                Ch[i][j][k] = Ch[i][j][k] - 16.\n",
    "            if 48. > Ch[i][j][k] > 31.:\n",
    "                Ch[i][j][k] = Ch[i][j][k] - 32.\n",
    "            if Ch[i][j][k] > 47.:\n",
    "                Ch[i][j][k] = Ch[i][j][k] - 48.\n",
    "                \n",
    "# Fill lists of lists based off of Pass-Fail\n",
    "# passRMS, etc... will be filled with data on passed values; failRMS with failed\n",
    "passRMS = []; passMean = []; passCh = []; passPF = []; passGain = []\n",
    "failRMS = []; failMean = []; failCh = []; failPF = []; failGain = []\n",
    "\n",
    "# create a list of lists - containing each chip as a seperate index\n",
    "for i in range(len(chips)):\n",
    "    passRMS.append(([])); passMean.append(([])); passCh.append(([])); passPF.append(([])); passGain.append(([]))\n",
    "    failRMS.append(([])); failMean.append(([])); failCh.append(([])); failPF.append(([])); failGain.append(([]))\n",
    "for i in range(len(chips)):\n",
    "    for j in range(len(Cryocycles)):\n",
    "        passRMS[i].append(([])); passMean[i].append(([])); \n",
    "        passCh[i].append(([])); passPF[i].append(([])); passGain[i].append(([]))\n",
    "        failRMS[i].append(([])); failMean[i].append(([]));\n",
    "        failCh[i].append(([])); failPF[i].append(([])); failGain[i].append(([]))\n",
    "# append data to the associated lists, based off of P/F\n",
    "for j in range(len(chips)):\n",
    "    for i in range(len(Cryocycles)):\n",
    "        for k in range(0,16):\n",
    "            if PF[j][i][k] == 0.:\n",
    "                passRMS[j][i].append((RMS[j][i][k])); passMean[j][i].append((Mean[j][i][k]));\n",
    "                passCh[j][i].append((Ch[j][i][k]))\n",
    "                passPF[j][i].append((PF[j][i][k])); passGain[j][i].append((Gain[j][i][k])) \n",
    "            if PF[j][i][k] == 1.:\n",
    "                failRMS[j][i].append((RMS[j][i][k])); failMean[j][i].append((Mean[j][i][k]));\n",
    "                failCh[j][i].append((Ch[j][i][k]))\n",
    "                failPF[j][i].append((PF[j][i][k])); failGain[j][i].append((Gain[j][i][k]))\n",
    "\n",
    "print('done')"
   ]
  },
  {
   "cell_type": "code",
   "execution_count": 2,
   "metadata": {},
   "outputs": [
    {
     "name": "stdout",
     "output_type": "stream",
     "text": [
      "RT[20] 74\n",
      "RT[5] 95\n",
      "RT[20] 95\n"
     ]
    },
    {
     "data": {
      "image/png": "[encoded data removed]",
      "text/plain": [
       "<Figure size 432x288 with 3 Axes>"
      ]
     },
     "metadata": {
      "needs_background": "light"
     },
     "output_type": "display_data"
    },
    {
     "name": "stdout",
     "output_type": "stream",
     "text": [
      "done\n"
     ]
    }
   ],
   "source": [
    "'''plt.save file format'''\n",
    "### Use this one ###\n",
    "\n",
    "# Thanks to CE talk (12/6/21) by H. Chen (DUNE TPC Electronics Consortium Meeting) for plot idea\n",
    "\n",
    "chip = []\n",
    "PFchips = np.ones((len(chips),len(Cryocycles),1))\n",
    "for i in range(20,len(chips)+20):\n",
    "    chip.append(i)\n",
    "    \n",
    "# Designate y-values either 1 or 2 (ASIC Passes or Fails for all channels)\n",
    "for i in range(len(PF)):\n",
    "    for j in range(len(Cryocycles)):\n",
    "        for k in range(0,16):\n",
    "            # Exclude Disconnections (6000 adc)\n",
    "            if PF[i][j][k] == 1. and (Mean[i][j][k] > 6500. or Mean[i][j][k] < 5500.):\n",
    "                PFchips[i][j] = 2.\n",
    "\n",
    "# Create bar plots for each Cryocycle\n",
    "fig, (a,b,c) = plt.subplots(3)\n",
    "for i in range(len(chips)):\n",
    "    a.bar(chip[i],PFchips[i][0],color='tan')\n",
    "    b.bar(chip[i],PFchips[i][1],color='tan')\n",
    "    c.bar(chip[i],PFchips[i][2],color='tan')\n",
    "    if PFchips[i][0] == 2.:\n",
    "        a.text(chip[i]-.75,2.25,chip[i],size=6)\n",
    "        print('RT[0] ' + str(chip[i]))\n",
    "    if PFchips[i][1] == 2.:\n",
    "        b.text(chip[i]-.75,2.25,chip[i],size=6)\n",
    "        print('RT[5] ' + str(chip[i]))\n",
    "    if PFchips[i][2] == 2.:\n",
    "        c.text(chip[i]-.75,2.25,chip[i],size=6)\n",
    "        print('RT[20] ' + str(chip[i]))\n",
    "    \n",
    "# setting x-ticks for all the ASICs - too many for each one, so only label every 4\n",
    "a.set_xticks(range(20,len(chip)+20,4)); b.set_xticks(range(20,len(chip)+20,4));\n",
    "c.set_xticks(range(20,len(chip)+20,4))\n",
    "a.tick_params(axis = 'x', labelsize=5); b.tick_params(axis = 'x', labelsize=5);\n",
    "c.tick_params(axis = 'x', labelsize=5)\n",
    "\n",
    "# Y-axis tick marks -- only displaying the '2' value\n",
    "for n, label in enumerate(a.yaxis.get_ticklabels()):\n",
    "    if n != 2. and n != 4.:\n",
    "        label.set_visible(False)\n",
    "for n, label in enumerate(b.yaxis.get_ticklabels()):\n",
    "    if n != 2. and n != 4.:\n",
    "        label.set_visible(False)\n",
    "for n, label in enumerate(c.yaxis.get_ticklabels()):\n",
    "    if n != 2. and n != 4.:\n",
    "        label.set_visible(False)\n",
    "\n",
    "a.set_ylim([0,3.0]); b.set_ylim([0,3.0]); c.set_ylim([0,3.0])\n",
    "a.set_title('P/F - Channel Response | 200mV BL RT | 1 = Pass, 2 = Fail')\n",
    "b.set_ylabel('Channel Response (P/F)')\n",
    "c.set_xlabel('P3 LArASIC Chip Number')\n",
    "a.text(len(chips)+12,2.45,'RT[0]',size=10)\n",
    "b.text(len(chips)+12,2.45,'RT[5]',size=10)\n",
    "c.text(len(chips)+12,2.45,'RT[20]',size=10)\n",
    "\n",
    "path = '../../../../test.png'\n",
    "plt.savefig(path,dpi=300, bbox_inches='tight', pad_inches=.3,facecolor = 'w')\n",
    "\n",
    "plt.show()\n",
    "\n",
    "print('done')"
   ]
  },
  {
   "cell_type": "code",
   "execution_count": 3,
   "metadata": {},
   "outputs": [
    {
     "name": "stdout",
     "output_type": "stream",
     "text": [
      "RT[100] 49\n",
      "RT[20] 74\n",
      "RT[100] 74\n",
      "RT[5] 95\n",
      "RT[20] 95\n",
      "RT[100] 95\n",
      "RT[100] 111\n",
      "RT[100] 114\n"
     ]
    },
    {
     "data": {
      "image/png": "[encoded data removed]",
      "text/plain": [
       "<Figure size 432x288 with 4 Axes>"
      ]
     },
     "metadata": {
      "needs_background": "light"
     },
     "output_type": "display_data"
    },
    {
     "name": "stdout",
     "output_type": "stream",
     "text": [
      "done\n"
     ]
    }
   ],
   "source": [
    "### Other version for [100] Cryocycles - 4 subplots\n",
    "\n",
    "chip = []\n",
    "PFchips = np.ones((len(chips),len(Cryocycles),1))\n",
    "for i in range(20,len(chips)+20):\n",
    "    chip.append(i)\n",
    "    \n",
    "# Designate y-values either 1 or 2 (ASIC Passes or Fails for all channels)\n",
    "for i in range(len(PF)):\n",
    "    for j in range(len(Cryocycles)):\n",
    "        for k in range(0,16):\n",
    "        # Exclude Disconnections (6000 adc)\n",
    "            if PF[i][j][k] == 1. and (Mean[i][j][k] > 6500. or Mean[i][j][k] < 5500.):\n",
    "                PFchips[i][j] = 2.\n",
    "\n",
    "# Create bar plots for each Cryocycle\n",
    "fig, (a,b,c,d) = plt.subplots(4)\n",
    "for i in range(len(chips)):\n",
    "    a.bar(chip[i],PFchips[i][0],color='tan')\n",
    "    b.bar(chip[i],PFchips[i][1],color='tan')\n",
    "    c.bar(chip[i],PFchips[i][2],color='tan')\n",
    "    d.bar(chip[i],PFchips[i][3],color='tan')\n",
    "    if PFchips[i][0] == 2.:\n",
    "        a.text(chip[i]-1,2.25,chip[i],size=6)\n",
    "        print('RT[0] ' + str(chip[i]))\n",
    "    if PFchips[i][1] == 2.:\n",
    "        b.text(chip[i]-1,2.25,chip[i],size=6)\n",
    "        print('RT[5] ' + str(chip[i]))\n",
    "    if PFchips[i][2] == 2.:\n",
    "        c.text(chip[i]-1,2.25,chip[i],size=6)\n",
    "        print('RT[20] ' + str(chip[i]))\n",
    "    if PFchips[i][3] == 2.:\n",
    "        # Back to back (ASICs 111 and 114 overlap), so we need to seperate them by hand\n",
    "        if i == 91:\n",
    "            d.text(chip[i]-3,2.25,chip[i],size=6)\n",
    "            print('RT[100] ' + str(chip[i]))\n",
    "        elif i == 94:\n",
    "            d.text(chip[i]-1,2.25,chip[i],size=6)\n",
    "            print('RT[100] ' + str(chip[i]))\n",
    "        else:\n",
    "            d.text(chip[i]-1,2.25,chip[i],size=6)\n",
    "            print('RT[100] ' + str(chip[i]))\n",
    "    \n",
    "# setting x-ticks for all the ASICs - too many for each one, so only label every 4\n",
    "a.set_xticks(range(20,len(chip)+20,4)); b.set_xticks(range(20,len(chip)+20,4))\n",
    "c.set_xticks(range(20,len(chip)+20,4)); d.set_xticks(range(20,len(chip)+20,4))\n",
    "# Turn off numbers on xticks for the top 3 subplots, so we only have ASIC numbers on the bottom subplot\n",
    "a.set_xticklabels([]); b.set_xticklabels([]); c.set_xticklabels([])\n",
    "a.tick_params(axis = 'x', labelsize=5); b.tick_params(axis = 'x', labelsize=5)\n",
    "c.tick_params(axis = 'x', labelsize=5); d.tick_params(axis = 'x', labelsize=5)\n",
    "\n",
    "# Y-axis tick marks -- only displaying the '2' value\n",
    "for n, label in enumerate(a.yaxis.get_ticklabels()):\n",
    "    if n == 0.: #and n != 4.:\n",
    "        label.set_visible(False)\n",
    "for n, label in enumerate(b.yaxis.get_ticklabels()):\n",
    "    if n == 0.: #and n != 4.:\n",
    "        label.set_visible(False)\n",
    "for n, label in enumerate(c.yaxis.get_ticklabels()):\n",
    "    if n == 0.: #and n != 4.:\n",
    "        label.set_visible(False)\n",
    "for n, label in enumerate(d.yaxis.get_ticklabels()):\n",
    "    if n == 0.: #and n != 4.:\n",
    "        label.set_visible(False)\n",
    "\n",
    "a.set_ylim([0,3.0]); b.set_ylim([0,3.0]); c.set_ylim([0,3.0]); d.set_ylim([0,3.0])\n",
    "a.set_title('P/F - Channel Response | 200mV BL RT | 1 = Pass, 2 = Fail')\n",
    "b.set_ylabel('Channel Response (P/F)', loc = 'top')\n",
    "d.set_xlabel('P3 LArASIC Chip Number')\n",
    "a.text(20,2.35,'RT[0]',size=10)\n",
    "b.text(20,2.35,'RT[5]',size=10)\n",
    "c.text(20,2.35,'RT[20]',size=10)\n",
    "d.text(20,2.35,'RT[100]',size=10)\n",
    "\n",
    "path = '../../../../RT Channel Response.png'\n",
    "plt.savefig(path,dpi=300, bbox_inches='tight', pad_inches=.3,facecolor = 'w')\n",
    "\n",
    "plt.show()\n",
    "\n",
    "print('done')"
   ]
  },
  {
   "cell_type": "markdown",
   "metadata": {},
   "source": [
    "### Channel (all 1600) displayed for channel response plot"
   ]
  },
  {
   "cell_type": "code",
   "execution_count": 30,
   "metadata": {},
   "outputs": [
    {
     "data": {
      "image/png": "[encoded data removed]",
      "text/plain": [
       "<Figure size 432x288 with 1 Axes>"
      ]
     },
     "metadata": {
      "needs_background": "light"
     },
     "output_type": "display_data"
    },
    {
     "name": "stdout",
     "output_type": "stream",
     "text": [
      "done\n"
     ]
    }
   ],
   "source": [
    "from tqdm.notebook import trange, tqdm      # progress bar\n",
    "\n",
    "ChaCha = []  # channels\n",
    "PFchannels = np.ones((len(Cryocycles),1600))\n",
    "for i in range(0,1600):\n",
    "    ChaCha.append(i)\n",
    "    \n",
    "# Designate y-values either 1 or 2 (ASIC Passes or Fails for all channels)\n",
    "for c in range(len(Cryocycles)):\n",
    "    for i in range(0,100):\n",
    "        for j in range(0,16):\n",
    "        # Exclude Disconnections (6000 adc)\n",
    "            if PF[i][c][j] == 1. and (Mean[i][c][j] > 6250. or Mean[i][c][j] < 5750.):\n",
    "                PFchannels[c][j+(j*i)] = 2.\n",
    "\n",
    "# Create bar plots --- This one is only for comparison between RT[0] and RT[100]\n",
    "fig, (a) = plt.subplots(1)\n",
    "a.bar(ChaCha,PFchannels[3],color='tan',width=3)\n",
    "    \n",
    "# setting x-ticks for all the ASICs - too many for each one, so only label every 4\n",
    "a.set_xticks(range(0,1600,100))\n",
    "a.tick_params(axis = 'x', labelsize=7)\n",
    "\n",
    "# Y-axis tick marks -- only displaying the '2' value\n",
    "for n, label in enumerate(a.yaxis.get_ticklabels()):\n",
    "    label.set_visible(False)\n",
    "    if n == 2. or n == 4.:   # Tick marks denoted by how many there are (n = 2 is y = 1.0, n = 4 is y = 2.0)\n",
    "        label.set_visible(True)\n",
    "\n",
    "a.set_ylim([0,2.5])\n",
    "a.set_title('RT[100] Channel Response | 200mV BL RT | 1 = Pass, 2 = Fail')\n",
    "#a.set_ylabel('Channel Response (P/F)')\n",
    "a.set_xlabel('P3 LArASIC Channel Numbers')\n",
    "#a.text(100,2.35,'RT[100]',size=10)\n",
    "\n",
    "path = '../../../../RT[100] Channel Response - all channels.png'\n",
    "plt.savefig(path,dpi=300, bbox_inches='tight', pad_inches=.3,facecolor = 'w')\n",
    "\n",
    "plt.show()\n",
    "\n",
    "print('done')"
   ]
  },
  {
   "cell_type": "code",
   "execution_count": null,
   "metadata": {},
   "outputs": [],
   "source": []
  }
 ],
 "metadata": {
  "kernelspec": {
   "display_name": "Python 3 (ipykernel)",
   "language": "python",
   "name": "python3"
  },
  "language_info": {
   "codemirror_mode": {
    "name": "ipython",
    "version": 3
   },
   "file_extension": ".py",
   "mimetype": "text/x-python",
   "name": "python",
   "nbconvert_exporter": "python",
   "pygments_lexer": "ipython3",
   "version": "3.9.12"
  }
 },
 "nbformat": 4,
 "nbformat_minor": 4
}
